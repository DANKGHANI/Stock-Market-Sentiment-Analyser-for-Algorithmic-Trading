{
  "nbformat": 4,
  "nbformat_minor": 0,
  "metadata": {
    "colab": {
      "name": "Spotle Labelling.ipynb",
      "provenance": [],
      "toc_visible": true
    },
    "kernelspec": {
      "name": "python3",
      "display_name": "Python 3"
    }
  },
  "cells": [
    {
      "cell_type": "code",
      "metadata": {
        "id": "FZZDgSUjA8bG",
        "colab_type": "code",
        "colab": {}
      },
      "source": [
        "import pandas as pd\n",
        "import numpy as np"
      ],
      "execution_count": 0,
      "outputs": []
    },
    {
      "cell_type": "code",
      "metadata": {
        "id": "BzzXLkX7D2S9",
        "colab_type": "code",
        "outputId": "a31f0c03-2f1a-4e8c-cb89-4253e2f3818e",
        "colab": {
          "base_uri": "https://localhost:8080/",
          "height": 425
        }
      },
      "source": [
        "df = pd.read_csv('/content/drive/My Drive/data_merged.csv')\n",
        "df.head()"
      ],
      "execution_count": 2,
      "outputs": [
        {
          "output_type": "execute_result",
          "data": {
            "text/html": [
              "<div>\n",
              "<style scoped>\n",
              "    .dataframe tbody tr th:only-of-type {\n",
              "        vertical-align: middle;\n",
              "    }\n",
              "\n",
              "    .dataframe tbody tr th {\n",
              "        vertical-align: top;\n",
              "    }\n",
              "\n",
              "    .dataframe thead th {\n",
              "        text-align: right;\n",
              "    }\n",
              "</style>\n",
              "<table border=\"1\" class=\"dataframe\">\n",
              "  <thead>\n",
              "    <tr style=\"text-align: right;\">\n",
              "      <th></th>\n",
              "      <th>Unnamed: 0</th>\n",
              "      <th>date</th>\n",
              "      <th>id</th>\n",
              "      <th>intro</th>\n",
              "      <th>title</th>\n",
              "      <th>body</th>\n",
              "      <th>id.1</th>\n",
              "    </tr>\n",
              "  </thead>\n",
              "  <tbody>\n",
              "    <tr>\n",
              "      <th>0</th>\n",
              "      <td>0</td>\n",
              "      <td>Wed, Nov 09 2016. 10 38 PM</td>\n",
              "      <td>00wS6lZEcgYyCPt6mIXwrJ</td>\n",
              "      <td>The company had posted a net profit of Rs1,61...</td>\n",
              "      <td>REC net profit up 8% at Rs1,751 crore in July-...</td>\n",
              "      <td>New Delhi: State-run Rural Electrification Cor...</td>\n",
              "      <td>00wS6lZEcgYyCPt6mIXwrJ</td>\n",
              "    </tr>\n",
              "    <tr>\n",
              "      <th>1</th>\n",
              "      <td>0</td>\n",
              "      <td>Tue, Jan 24 2017. 12 47 PM</td>\n",
              "      <td>0229PSUGl9BxwsW7urHATP</td>\n",
              "      <td>The resulting trust deficit has had several di...</td>\n",
              "      <td>The consequences of declining trust in CEOs</td>\n",
              "      <td>Two sets of findings, related to societal trus...</td>\n",
              "      <td>0229PSUGl9BxwsW7urHATP</td>\n",
              "    </tr>\n",
              "    <tr>\n",
              "      <th>2</th>\n",
              "      <td>0</td>\n",
              "      <td>Tue, Nov 15 2016. 02 13 AM</td>\n",
              "      <td>02A1DgXR3wUC7xEX4UzqHN</td>\n",
              "      <td>Rejecting reasons cited for not spending on CS...</td>\n",
              "      <td>MCA pulls up companies over lack of CSR spends</td>\n",
              "      <td>Mumbai: The ministry of corporate affairs (MCA...</td>\n",
              "      <td>02A1DgXR3wUC7xEX4UzqHN</td>\n",
              "    </tr>\n",
              "    <tr>\n",
              "      <th>3</th>\n",
              "      <td>0</td>\n",
              "      <td>Thu, Nov 10 2016. 01 21 AM</td>\n",
              "      <td>02xKYa7PKoROOpbx5xbxhM</td>\n",
              "      <td>E-wallet companies like Paytm, Freecharge are ...</td>\n",
              "      <td>Demonetization to give major push to e-wallets...</td>\n",
              "      <td>New Delhi: The central governments decision t...</td>\n",
              "      <td>02xKYa7PKoROOpbx5xbxhM</td>\n",
              "    </tr>\n",
              "    <tr>\n",
              "      <th>4</th>\n",
              "      <td>0</td>\n",
              "      <td>Wed, Dec 21 2016. 03 19 AM</td>\n",
              "      <td>05PcYpZOmBeSeBLoMPqETN</td>\n",
              "      <td>Tech Mahindra CEO CP Gurnani on bets his firm ...</td>\n",
              "      <td>By 2020, 50% of Tech Mahindras business will ...</td>\n",
              "      <td>Pune: The 57-year-old boss of Tech Mahindra, C...</td>\n",
              "      <td>05PcYpZOmBeSeBLoMPqETN</td>\n",
              "    </tr>\n",
              "  </tbody>\n",
              "</table>\n",
              "</div>"
            ],
            "text/plain": [
              "   Unnamed: 0  ...                    id.1\n",
              "0           0  ...  00wS6lZEcgYyCPt6mIXwrJ\n",
              "1           0  ...  0229PSUGl9BxwsW7urHATP\n",
              "2           0  ...  02A1DgXR3wUC7xEX4UzqHN\n",
              "3           0  ...  02xKYa7PKoROOpbx5xbxhM\n",
              "4           0  ...  05PcYpZOmBeSeBLoMPqETN\n",
              "\n",
              "[5 rows x 7 columns]"
            ]
          },
          "metadata": {
            "tags": []
          },
          "execution_count": 2
        }
      ]
    },
    {
      "cell_type": "code",
      "metadata": {
        "id": "BmIFpnBoEb92",
        "colab_type": "code",
        "outputId": "d0d18427-8ba7-4b07-a90a-011c20397a9c",
        "colab": {
          "base_uri": "https://localhost:8080/",
          "height": 204
        }
      },
      "source": [
        "df1=df.drop(['Unnamed: 0','date','id','id.1'],axis=1)\n",
        "df1.head()"
      ],
      "execution_count": 3,
      "outputs": [
        {
          "output_type": "execute_result",
          "data": {
            "text/html": [
              "<div>\n",
              "<style scoped>\n",
              "    .dataframe tbody tr th:only-of-type {\n",
              "        vertical-align: middle;\n",
              "    }\n",
              "\n",
              "    .dataframe tbody tr th {\n",
              "        vertical-align: top;\n",
              "    }\n",
              "\n",
              "    .dataframe thead th {\n",
              "        text-align: right;\n",
              "    }\n",
              "</style>\n",
              "<table border=\"1\" class=\"dataframe\">\n",
              "  <thead>\n",
              "    <tr style=\"text-align: right;\">\n",
              "      <th></th>\n",
              "      <th>intro</th>\n",
              "      <th>title</th>\n",
              "      <th>body</th>\n",
              "    </tr>\n",
              "  </thead>\n",
              "  <tbody>\n",
              "    <tr>\n",
              "      <th>0</th>\n",
              "      <td>The company had posted a net profit of Rs1,61...</td>\n",
              "      <td>REC net profit up 8% at Rs1,751 crore in July-...</td>\n",
              "      <td>New Delhi: State-run Rural Electrification Cor...</td>\n",
              "    </tr>\n",
              "    <tr>\n",
              "      <th>1</th>\n",
              "      <td>The resulting trust deficit has had several di...</td>\n",
              "      <td>The consequences of declining trust in CEOs</td>\n",
              "      <td>Two sets of findings, related to societal trus...</td>\n",
              "    </tr>\n",
              "    <tr>\n",
              "      <th>2</th>\n",
              "      <td>Rejecting reasons cited for not spending on CS...</td>\n",
              "      <td>MCA pulls up companies over lack of CSR spends</td>\n",
              "      <td>Mumbai: The ministry of corporate affairs (MCA...</td>\n",
              "    </tr>\n",
              "    <tr>\n",
              "      <th>3</th>\n",
              "      <td>E-wallet companies like Paytm, Freecharge are ...</td>\n",
              "      <td>Demonetization to give major push to e-wallets...</td>\n",
              "      <td>New Delhi: The central governments decision t...</td>\n",
              "    </tr>\n",
              "    <tr>\n",
              "      <th>4</th>\n",
              "      <td>Tech Mahindra CEO CP Gurnani on bets his firm ...</td>\n",
              "      <td>By 2020, 50% of Tech Mahindras business will ...</td>\n",
              "      <td>Pune: The 57-year-old boss of Tech Mahindra, C...</td>\n",
              "    </tr>\n",
              "  </tbody>\n",
              "</table>\n",
              "</div>"
            ],
            "text/plain": [
              "                                               intro  ...                                               body\n",
              "0  The company had posted a net profit of Rs1,61...  ...  New Delhi: State-run Rural Electrification Cor...\n",
              "1  The resulting trust deficit has had several di...  ...  Two sets of findings, related to societal trus...\n",
              "2  Rejecting reasons cited for not spending on CS...  ...  Mumbai: The ministry of corporate affairs (MCA...\n",
              "3  E-wallet companies like Paytm, Freecharge are ...  ...  New Delhi: The central governments decision t...\n",
              "4  Tech Mahindra CEO CP Gurnani on bets his firm ...  ...  Pune: The 57-year-old boss of Tech Mahindra, C...\n",
              "\n",
              "[5 rows x 3 columns]"
            ]
          },
          "metadata": {
            "tags": []
          },
          "execution_count": 3
        }
      ]
    },
    {
      "cell_type": "code",
      "metadata": {
        "id": "n3JpFHz4Ny5Q",
        "colab_type": "code",
        "colab": {}
      },
      "source": [
        "df1['Top']=[', '.join(str(x) for x in y) for y in map(tuple,df1.values)]"
      ],
      "execution_count": 0,
      "outputs": []
    },
    {
      "cell_type": "code",
      "metadata": {
        "id": "XLJKiOTGRNKq",
        "colab_type": "code",
        "colab": {}
      },
      "source": [
        "df2=df1[['Top']].copy()"
      ],
      "execution_count": 0,
      "outputs": []
    },
    {
      "cell_type": "code",
      "metadata": {
        "id": "lNwudIJ0m6tU",
        "colab_type": "code",
        "outputId": "102dc210-8a34-41a7-f395-5ec98d9915ec",
        "colab": {
          "base_uri": "https://localhost:8080/",
          "height": 51
        }
      },
      "source": [
        "import nltk\n",
        "nltk.download('vader_lexicon')"
      ],
      "execution_count": 6,
      "outputs": [
        {
          "output_type": "stream",
          "text": [
            "[nltk_data] Downloading package vader_lexicon to /root/nltk_data...\n"
          ],
          "name": "stdout"
        },
        {
          "output_type": "execute_result",
          "data": {
            "text/plain": [
              "True"
            ]
          },
          "metadata": {
            "tags": []
          },
          "execution_count": 6
        }
      ]
    },
    {
      "cell_type": "code",
      "metadata": {
        "id": "J_qW1_c7zJrk",
        "colab_type": "code",
        "outputId": "73126d65-b828-4fbf-add1-609297a0a4d0",
        "colab": {
          "base_uri": "https://localhost:8080/",
          "height": 71
        }
      },
      "source": [
        "from nltk.sentiment.vader import SentimentIntensityAnalyzer\n",
        "sia = SentimentIntensityAnalyzer()"
      ],
      "execution_count": 7,
      "outputs": [
        {
          "output_type": "stream",
          "text": [
            "/usr/local/lib/python3.6/dist-packages/nltk/twitter/__init__.py:20: UserWarning: The twython library has not been installed. Some functionality from the twitter package will not be available.\n",
            "  warnings.warn(\"The twython library has not been installed. \"\n"
          ],
          "name": "stderr"
        }
      ]
    },
    {
      "cell_type": "code",
      "metadata": {
        "id": "BBjiImE4naAY",
        "colab_type": "code",
        "colab": {}
      },
      "source": [
        "df1['neg'] = df1['Top'].apply(lambda x:sia.polarity_scores(x)['neg'])\n",
        "df1['pos'] = df1['Top'].apply(lambda x:sia.polarity_scores(x)['pos'])\n",
        "df1['neu'] = df1['Top'].apply(lambda x:sia.polarity_scores(x)['neu'])\n",
        "df1['compound'] = df1['Top'].apply(lambda x:sia.polarity_scores(x)['compound'])"
      ],
      "execution_count": 0,
      "outputs": []
    },
    {
      "cell_type": "code",
      "metadata": {
        "id": "tMODgxZcqipN",
        "colab_type": "code",
        "colab": {}
      },
      "source": [
        "df2['Label'] = np.where( (df1['compound'].values >= 0.33) ,1,0)"
      ],
      "execution_count": 0,
      "outputs": []
    },
    {
      "cell_type": "code",
      "metadata": {
        "id": "ZWkvUIa2qqz_",
        "colab_type": "code",
        "colab": {}
      },
      "source": [
        "df = pd.read_csv('/content/drive/My Drive/train_final.csv')"
      ],
      "execution_count": 0,
      "outputs": []
    },
    {
      "cell_type": "code",
      "metadata": {
        "id": "PTaPp67wRv6l",
        "colab_type": "code",
        "outputId": "ec291e35-5cf8-4af6-9c6a-2ad240fcd7b3",
        "colab": {
          "base_uri": "https://localhost:8080/",
          "height": 204
        }
      },
      "source": [
        "df.head()"
      ],
      "execution_count": 11,
      "outputs": [
        {
          "output_type": "execute_result",
          "data": {
            "text/html": [
              "<div>\n",
              "<style scoped>\n",
              "    .dataframe tbody tr th:only-of-type {\n",
              "        vertical-align: middle;\n",
              "    }\n",
              "\n",
              "    .dataframe tbody tr th {\n",
              "        vertical-align: top;\n",
              "    }\n",
              "\n",
              "    .dataframe thead th {\n",
              "        text-align: right;\n",
              "    }\n",
              "</style>\n",
              "<table border=\"1\" class=\"dataframe\">\n",
              "  <thead>\n",
              "    <tr style=\"text-align: right;\">\n",
              "      <th></th>\n",
              "      <th>Top</th>\n",
              "      <th>Label</th>\n",
              "    </tr>\n",
              "  </thead>\n",
              "  <tbody>\n",
              "    <tr>\n",
              "      <th>0</th>\n",
              "      <td>The company had posted a net profit of Rs1,61...</td>\n",
              "      <td>1</td>\n",
              "    </tr>\n",
              "    <tr>\n",
              "      <th>1</th>\n",
              "      <td>The resulting trust deficit has had several di...</td>\n",
              "      <td>1</td>\n",
              "    </tr>\n",
              "    <tr>\n",
              "      <th>2</th>\n",
              "      <td>Rejecting reasons cited for not spending on CS...</td>\n",
              "      <td>1</td>\n",
              "    </tr>\n",
              "    <tr>\n",
              "      <th>3</th>\n",
              "      <td>E-wallet companies like Paytm, Freecharge are ...</td>\n",
              "      <td>1</td>\n",
              "    </tr>\n",
              "    <tr>\n",
              "      <th>4</th>\n",
              "      <td>Tech Mahindra CEO CP Gurnani on bets his firm ...</td>\n",
              "      <td>0</td>\n",
              "    </tr>\n",
              "  </tbody>\n",
              "</table>\n",
              "</div>"
            ],
            "text/plain": [
              "                                                 Top  Label\n",
              "0  The company had posted a net profit of Rs1,61...      1\n",
              "1  The resulting trust deficit has had several di...      1\n",
              "2  Rejecting reasons cited for not spending on CS...      1\n",
              "3  E-wallet companies like Paytm, Freecharge are ...      1\n",
              "4  Tech Mahindra CEO CP Gurnani on bets his firm ...      0"
            ]
          },
          "metadata": {
            "tags": []
          },
          "execution_count": 11
        }
      ]
    },
    {
      "cell_type": "code",
      "metadata": {
        "id": "yydmWJyvkhXz",
        "colab_type": "code",
        "outputId": "3dd4f5a2-764a-4992-861a-bc9ef6123b26",
        "colab": {
          "base_uri": "https://localhost:8080/",
          "height": 68
        }
      },
      "source": [
        "df['Label'].value_counts()"
      ],
      "execution_count": 12,
      "outputs": [
        {
          "output_type": "execute_result",
          "data": {
            "text/plain": [
              "1    1720\n",
              "0     379\n",
              "Name: Label, dtype: int64"
            ]
          },
          "metadata": {
            "tags": []
          },
          "execution_count": 12
        }
      ]
    }
  ]
}